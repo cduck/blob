{
 "cells": [
  {
   "cell_type": "code",
   "execution_count": 157,
   "metadata": {
    "collapsed": false
   },
   "outputs": [],
   "source": [
    "import numpy as np\n",
    "import time\n",
    "import matplotlib.pyplot as plt\n",
    "from IPython import display\n",
    "%matplotlib inline"
   ]
  },
  {
   "cell_type": "code",
   "execution_count": 158,
   "metadata": {
    "collapsed": true
   },
   "outputs": [],
   "source": [
    "# Units in inches\n",
    "heightOffGround = 7\n",
    "rInner = 5\n",
    "lenRod = 18.5\n",
    "rOuter = lenRod - rInner\n",
    "rCenter = lenRod/2\n",
    "numMotors = 4\n",
    "numFeet = numMotors*2\n",
    "motorAngle = 360/float(numFeet)\n",
    "angleBetween = 360/float(numFeet)\n",
    "rCurveFeet = 4\n",
    "# Encoder steps per inch\n",
    "motorScale = 1000  # Find what value this actually is\n",
    "minLiftAngle = 25  # 15 to 20 according to Anthony"
   ]
  },
  {
   "cell_type": "code",
   "execution_count": 211,
   "metadata": {
    "collapsed": false
   },
   "outputs": [],
   "source": [
    "footPoints = np.array([\n",
    "        0\n",
    "    ])\n",
    "def calcPositionPoints(angle, motors):\n",
    "    assert len(motors) == numMotors, \"Wrong number of motors\"\n",
    "    pointsPerMotor = 3\n",
    "    ppm = pointsPerMotor\n",
    "    points = np.zeros((pointsPerMotor*numMotors,2))\n",
    "    for i in xrange(numMotors):\n",
    "        a = np.deg2rad(angle+i*motorAngle+90)\n",
    "        r1 = rCenter + motors[i]/float(motorScale)\n",
    "        r2 = rCenter - motors[i]/float(motorScale)\n",
    "        assert rInner <= r1 <= rOuter and rInner <= r2 <= rOuter, \"Motor out of bounds\"\n",
    "        points[i*ppm] = np.array((r1*np.cos(a),r1*np.sin(a)))\n",
    "        points[i*ppm+1] = np.array((-r2*np.cos(a),-r2*np.sin(a)))\n",
    "        points[i*ppm+2] = np.array((np.NaN, np.NaN))\n",
    "        #points[i*ppm+3:i*ppm+3+len(footPoints)] = footPoints\n",
    "        #points[i*ppm+3+len(footPoints)] = np.array((np.NaN, np.NaN))\n",
    "    return points"
   ]
  },
  {
   "cell_type": "code",
   "execution_count": 181,
   "metadata": {
    "collapsed": false
   },
   "outputs": [],
   "source": [
    "def drawPosition(angle, motors):\n",
    "    points = calcPositionPoints(angle, motors)\n",
    "    plt.plot(*points.T)\n",
    "    plt.plot([0,15*np.cos(np.deg2rad(angle+90))], [0,15*np.sin(np.deg2rad(angle+90))], 'g:')\n",
    "    a = rOuter*1.1\n",
    "    plt.plot([-a, a], [-heightOffGround, -heightOffGround], 'r:')\n",
    "    plt.gca().set_aspect('equal', adjustable='box')\n",
    "    plt.xlim([-a,a])\n",
    "    plt.ylim([-a,a])"
   ]
  },
  {
   "cell_type": "code",
   "execution_count": 182,
   "metadata": {
    "collapsed": false
   },
   "outputs": [
    {
     "data": {
      "image/png": "[encoded data removed]",
      "text/plain": [
       "<matplotlib.figure.Figure at 0x10c4cc990>"
      ]
     },
     "metadata": {},
     "output_type": "display_data"
    }
   ],
   "source": [
    "drawPosition(5, [0,0,0,0])"
   ]
  },
  {
   "cell_type": "code",
   "execution_count": 162,
   "metadata": {
    "collapsed": true
   },
   "outputs": [],
   "source": [
    "def domainAndOffset(angle):\n",
    "    domain = int(((360-angle+angleBetween/2.0)/(angleBetween)) % numFeet)\n",
    "    offset = (angle+domain*angleBetween-360) % 360\n",
    "    #domain = ((360-angle+angleBetween/2.0)/(angleBetween)) % numFeet\n",
    "    return (domain,offset)"
   ]
  },
  {
   "cell_type": "code",
   "execution_count": 214,
   "metadata": {
    "collapsed": false
   },
   "outputs": [],
   "source": [
    "# Actual trig calculations here\n",
    "def calcPositionsFromOffset(offset):\n",
    "    h = heightOffGround\n",
    "    a_0 = h/np.cos(np.deg2rad(offset))\n",
    "    a_1 = h/np.cos(np.deg2rad(offset+45))\n",
    "    a_nm1 = 2*rCenter-h/np.cos(np.deg2rad(offset-45))\n",
    "    motors = [0]*numMotors\n",
    "    motors[0] = (rCenter-a_0)\n",
    "    motors[1] = (rCenter-a_1)\n",
    "    motors[-1] = (rCenter-a_nm1)\n",
    "    for i in xrange(len(motors)):\n",
    "        if motors[i] > rOuter-rCenter:\n",
    "            motors[i] = rOuter-rCenter\n",
    "        if motors[i] < -(rOuter-rCenter):\n",
    "            motors[i] = -(rOuter-rCenter)\n",
    "        motors[i] = motors[i] * motorScale\n",
    "    return motors"
   ]
  },
  {
   "cell_type": "code",
   "execution_count": 208,
   "metadata": {
    "collapsed": true
   },
   "outputs": [],
   "source": [
    "def calcPositions(angle):\n",
    "    domain, offset = domainAndOffset(angle)\n",
    "    motorsDomain = calcPositionsFromOffset(offset)\n",
    "    motors = [0]*len(motorsDomain)\n",
    "    for i, md in zip(xrange(len(motorsDomain)), motorsDomain):\n",
    "        motors[(i+domain)%numMotors] = md if (i+domain)%numFeet < numMotors else -md\n",
    "    return motors"
   ]
  },
  {
   "cell_type": "code",
   "execution_count": 209,
   "metadata": {
    "collapsed": false
   },
   "outputs": [
    {
     "name": "stdout",
     "output_type": "stream",
     "text": [
      "11.4732611372 7.0267388628\n",
      "7.60993321198 10.890066788\n",
      "9.25 9.25\n",
      "9.13785102533 9.36214897467\n"
     ]
    },
    {
     "data": {
      "text/plain": [
       "[2223.2611371965686, -1640.0667880228852, 0, -112.14897467405116]"
      ]
     },
     "execution_count": 209,
     "metadata": {},
     "output_type": "execute_result"
    },
    {
     "data": {
      "image/png": "[encoded data removed]",
      "text/plain": [
       "<matplotlib.figure.Figure at 0x10aee64d0>"
      ]
     },
     "metadata": {},
     "output_type": "display_data"
    }
   ],
   "source": [
    "angle = 5\n",
    "drawPosition(angle, calcPositions(angle))\n",
    "calcPositions(angle)"
   ]
  },
  {
   "cell_type": "code",
   "execution_count": 215,
   "metadata": {
    "collapsed": false
   },
   "outputs": [
    {
     "data": {
      "image/png": "[encoded data removed]",
      "text/plain": [
       "<matplotlib.figure.Figure at 0x10bd20990>"
      ]
     },
     "metadata": {},
     "output_type": "display_data"
    },
    {
     "data": {
      "image/png": "[encoded data removed]",
      "text/plain": [
       "<matplotlib.figure.Figure at 0x10bd20990>"
      ]
     },
     "metadata": {},
     "output_type": "display_data"
    }
   ],
   "source": [
    "for angle in xrange(0,720,1):\n",
    "    plt.clf()\n",
    "    drawPosition(angle, calcPositions(angle+0))\n",
    "    display.clear_output(wait=True)\n",
    "    display.display(plt.gcf())"
   ]
  },
  {
   "cell_type": "code",
   "execution_count": null,
   "metadata": {
    "collapsed": true
   },
   "outputs": [],
   "source": []
  }
 ],
 "metadata": {
  "kernelspec": {
   "display_name": "Python 2",
   "language": "python",
   "name": "python2"
  },
  "language_info": {
   "codemirror_mode": {
    "name": "ipython",
    "version": 2
   },
   "file_extension": ".py",
   "mimetype": "text/x-python",
   "name": "python",
   "nbconvert_exporter": "python",
   "pygments_lexer": "ipython2",
   "version": "2.7.10"
  }
 },
 "nbformat": 4,
 "nbformat_minor": 0
}
